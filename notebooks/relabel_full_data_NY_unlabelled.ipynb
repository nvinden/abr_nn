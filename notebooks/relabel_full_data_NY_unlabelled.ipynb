{
 "cells": [
  {
   "cell_type": "code",
   "execution_count": 4,
   "metadata": {},
   "outputs": [
    {
     "name": "stderr",
     "output_type": "stream",
     "text": [
      "/tmp/ipykernel_30661/1884354548.py:4: DtypeWarning: Columns (54,55,56,58,59,61,63,70,71) have mixed types. Specify dtype option on import or set low_memory=False.\n",
      "  df = pd.read_csv('/home/nvinden/School/CIS4020/kkinds_ABR/data/full_data_NY/AMR_Data.csv')\n"
     ]
    }
   ],
   "source": [
    "import pandas as pd\n",
    "\n",
    "# Load the DataFrame\n",
    "df = pd.read_csv('/home/nvinden/School/CIS4020/kkinds_ABR/data/full_data_NY/AMR_Data.csv')\n",
    "\n",
    "# Remove any columns that are Unnamed or named data_number\n",
    "df = df.loc[:, ~df.columns.str.contains('^Unnamed')]\n",
    "df.drop('data_number', axis=1, inplace=True, errors='ignore')\n",
    "\n",
    "# Add a new data_number column at the beginning\n",
    "df.insert(0, 'data_number', range(len(df)))\n",
    "\n",
    "# Save the DataFrame\n",
    "df.to_csv('/home/nvinden/School/CIS4020/kkinds_ABR/data/full_data_NY/AMR_Data.csv', index=False)\n"
   ]
  }
 ],
 "metadata": {
  "kernelspec": {
   "display_name": "abr",
   "language": "python",
   "name": "python3"
  },
  "language_info": {
   "codemirror_mode": {
    "name": "ipython",
    "version": 3
   },
   "file_extension": ".py",
   "mimetype": "text/x-python",
   "name": "python",
   "nbconvert_exporter": "python",
   "pygments_lexer": "ipython3",
   "version": "3.11.5"
  }
 },
 "nbformat": 4,
 "nbformat_minor": 2
}
